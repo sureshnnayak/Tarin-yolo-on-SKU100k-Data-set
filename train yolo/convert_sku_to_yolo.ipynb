{
 "cells": [
  {
   "cell_type": "code",
   "execution_count": 1,
   "metadata": {},
   "outputs": [],
   "source": [
    "import cv2\n",
    "import pandas as pd\n",
    "import numpy as np # linear algebra\n",
    "import matplotlib.pyplot as plt"
   ]
  },
  {
   "cell_type": "code",
   "execution_count": 2,
   "metadata": {},
   "outputs": [],
   "source": [
    "df_train = pd.read_csv('SKU110K_fixed/annotations/annotations_train.csv', header=None)\n",
    "df_test = pd.read_csv('SKU110K_fixed/annotations/annotations_test.csv', header=None)\n",
    "df_val = pd.read_csv('SKU110K_fixed/annotations/annotations_val.csv', header=None)\n",
    "\n",
    "df_frames = [df_train,df_test,df_val]\n",
    "\n",
    "#df = pd.read_csv('SKU110K_fixed/')\n",
    "#print(df.head)"
   ]
  },
  {
   "cell_type": "code",
   "execution_count": null,
   "metadata": {},
   "outputs": [],
   "source": [
    "#for _, bbox in df.iterrows():\n",
    "for i in  range(3):\n",
    "    df = df_frames[i]\n",
    "    if i == 0:\n",
    "        file_location = \"SKU110K_fixed/labels/train/\"\n",
    "    if i == 1:\n",
    "        file_location = \"SKU110K_fixed/labels/test/\"\n",
    "    if i == 2:\n",
    "        file_location = \"SKU110K_fixed/labels/val/\"\n",
    "\n",
    "    image_names = []\n",
    "    file_name = \"\"\n",
    "    for _, bbox in df.iterrows():\n",
    "        #print(bbox)\n",
    "        image_name, xmin, ymin, xmax, ymax, cls, len, breadth = bbox\n",
    "        if image_name not in image_names:\n",
    "            image_names.append(image_name)\n",
    "            if file_name:\n",
    "                file.close()\n",
    "            file_name = image_name.replace(\"jpg\",\"txt\")\n",
    "            #print(file_location+file_name)\n",
    "            exit(0)\n",
    "            file = open(file_location+file_name,\"w+\")\n",
    "\n",
    "        \n",
    "        x_center = ((int(xmin)+ int(xmax))/2)/len\n",
    "        y_center = ((int(ymin)+ int(ymax))/2)/breadth\n",
    "        x = ((int(xmax) - int(xmin)))/len\n",
    "        y = ((int(ymax) - int(ymin)))/breadth\n",
    "        t = \"0 {0} {1} {2} {3}\\n\".format(x_center,y_center,x,y)\n",
    "        file.write(t)\n",
    "        #print(t)\n",
    "    file.close()"
   ]
  },
  {
   "cell_type": "code",
   "execution_count": 25,
   "metadata": {},
   "outputs": [
    {
     "name": "stdout",
     "output_type": "stream",
     "text": [
      "suresh\n",
      "surrsh\n",
      "hello\n"
     ]
    }
   ],
   "source": []
  }
 ],
 "metadata": {
  "kernelspec": {
   "display_name": "Python 3 (ipykernel)",
   "language": "python",
   "name": "python3"
  },
  "language_info": {
   "codemirror_mode": {
    "name": "ipython",
    "version": 3
   },
   "file_extension": ".py",
   "mimetype": "text/x-python",
   "name": "python",
   "nbconvert_exporter": "python",
   "pygments_lexer": "ipython3",
   "version": "3.7.13"
  },
  "orig_nbformat": 4
 },
 "nbformat": 4,
 "nbformat_minor": 2
}
